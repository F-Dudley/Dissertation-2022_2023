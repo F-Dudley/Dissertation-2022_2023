{
 "cells": [
  {
   "cell_type": "code",
   "execution_count": null,
   "metadata": {},
   "outputs": [],
   "source": [
    "from Eval.Plotting import plot_technique_rmse\n",
    "from Eval.Info import SCANNING_TARGETS\n",
    "from Utils.Data import JSON"
   ]
  },
  {
   "cell_type": "code",
   "execution_count": null,
   "metadata": {},
   "outputs": [],
   "source": [
    "# Main Settings\n",
    "\n",
    "target = 'Sphere'\n",
    "dataDir = \"../data/techniques-rmse-data.json\"\n",
    "\n",
    "assert target in SCANNING_TARGETS, f\"Target must be one of {SCANNING_TARGETS}\""
   ]
  },
  {
   "attachments": {},
   "cell_type": "markdown",
   "metadata": {},
   "source": [
    "### Collect RMSE Data"
   ]
  },
  {
   "cell_type": "code",
   "execution_count": null,
   "metadata": {},
   "outputs": [],
   "source": [
    "rmseJSON = JSON(dataDir)\n",
    "\n",
    "rmseData = {\n",
    "    technique: rmseJSON.data[technique][target][\"rmse\"] for technique in rmseJSON.data\n",
    "}\n",
    "\n",
    "del rmseJSON\n",
    "\n",
    "print(rmseData)"
   ]
  },
  {
   "attachments": {},
   "cell_type": "markdown",
   "metadata": {},
   "source": [
    "### Plot RMSE Data"
   ]
  },
  {
   "cell_type": "code",
   "execution_count": null,
   "metadata": {},
   "outputs": [],
   "source": [
    "rmseFig = plot_technique_rmse(rmseData, target_rmse=5, bar_width=0.4)\n",
    "\n",
    "rmseFig.show()"
   ]
  },
  {
   "cell_type": "code",
   "execution_count": null,
   "metadata": {},
   "outputs": [],
   "source": [
    "rmseFig.savefig(f'../data/techniques({target})-rmse-diagram.png', format='png', dpi=300)"
   ]
  }
 ],
 "metadata": {
  "kernelspec": {
   "display_name": "Python 3",
   "language": "python",
   "name": "python3"
  },
  "language_info": {
   "codemirror_mode": {
    "name": "ipython",
    "version": 3
   },
   "file_extension": ".py",
   "mimetype": "text/x-python",
   "name": "python",
   "nbconvert_exporter": "python",
   "pygments_lexer": "ipython3",
   "version": "3.10.10"
  },
  "orig_nbformat": 4
 },
 "nbformat": 4,
 "nbformat_minor": 2
}
