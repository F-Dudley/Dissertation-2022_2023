{
 "cells": [
  {
   "cell_type": "code",
   "execution_count": null,
   "metadata": {},
   "outputs": [],
   "source": [
    "import open3d as o3d\n",
    "import numpy as np\n",
    "\n",
    "from Eval.Mesh import CreatePointcloudFromDir\n",
    "from Eval.Clouds.Cube import CreateBaseCubePointCloud\n",
    "from Utils.Viz import VizualiseBaseTargetPointclouds\n",
    "from Eval.Error import CalculateRMSE\n",
    "from Utils.Format import MeterToMilimeter, MilimeterToMeter"
   ]
  },
  {
   "attachments": {},
   "cell_type": "markdown",
   "metadata": {},
   "source": [
    "### Calculate RMSE between Base and Collected Cloud"
   ]
  },
  {
   "cell_type": "code",
   "execution_count": null,
   "metadata": {},
   "outputs": [],
   "source": [
    "# Create the Base Cube Cloud\n",
    "\n",
    "baseCube = CreateBaseCubePointCloud(\n",
    "    size = (MilimeterToMeter(1), MilimeterToMeter(1), MilimeterToMeter(1)), \n",
    "    resolution = 1000\n",
    ")\n",
    "\n",
    "baseCube.paint_uniform_color([0.5, 0.5, 0.5])"
   ]
  },
  {
   "cell_type": "code",
   "execution_count": null,
   "metadata": {},
   "outputs": [],
   "source": [
    "# Current Technique and Data in Review\n",
    "\n",
    "eval = 'PolyCam'\n",
    "\n",
    "evalDataDir = f'../data/{eval}/box.ply'"
   ]
  },
  {
   "cell_type": "code",
   "execution_count": null,
   "metadata": {},
   "outputs": [],
   "source": [
    "# Create the Evaluated Cube Cloud\n",
    "\n",
    "collectedCube = CreatePointcloudFromDir(evalDataDir)\n",
    "collectedCube.paint_uniform_color([1, 0, 0])\n",
    "\n",
    "#collectCube.scale(MilimeterToMeter(200), center=collectCube.get_center())"
   ]
  },
  {
   "cell_type": "code",
   "execution_count": null,
   "metadata": {},
   "outputs": [],
   "source": [
    "# Perform ICP Registration between the Base and Collected Cloud\n",
    "\n",
    "icpRegResults = o3d.registration.registration_icp(\n",
    "    source = baseCube,\n",
    "    target = collectedCube,\n",
    "    max_correspondence_distance = 0.1,\n",
    "    init = o3d.registration.TransformationEstimationPointToPoint(),\n",
    "    estimation_method = o3d.registration.TransformationEstimationPointToPoint(),\n",
    "    criteria = o3d.registration.ICPConvergenceCriteria(max_iteration = 1000)\n",
    ")\n",
    "\n",
    "print(icpRegResults)\n",
    "\n",
    "# Apply the Transform Matrix to align the clouds\n",
    "baseCube.transform(icpRegResults.transformation)\n",
    "\n"
   ]
  },
  {
   "cell_type": "code",
   "execution_count": null,
   "metadata": {},
   "outputs": [],
   "source": [
    "# Vizualise Both Clouds Together\n",
    "\n",
    "VizualiseBaseTargetPointclouds(baseCube, collectedCube)"
   ]
  },
  {
   "cell_type": "code",
   "execution_count": null,
   "metadata": {},
   "outputs": [],
   "source": [
    "# Calculate the RMSE between the Two Clouds\n",
    "\n",
    "rmse = CalculateRMSE(baseCube, collectedCube)\n",
    "\n",
    "# Convert RMSE to mm\n",
    "rmse *= 1000\n",
    "\n",
    "print(f'RMSE (mm): {rmse}')"
   ]
  },
  {
   "attachments": {},
   "cell_type": "markdown",
   "metadata": {},
   "source": [
    "### Save and Plot RMSE Data"
   ]
  },
  {
   "cell_type": "code",
   "execution_count": null,
   "metadata": {},
   "outputs": [],
   "source": [
    "from Eval.Plotting import plot_technique_rmse\n",
    "from Utils.Data import JSON"
   ]
  },
  {
   "cell_type": "code",
   "execution_count": null,
   "metadata": {},
   "outputs": [],
   "source": [
    "# Load the Current RMSE Data from File\n",
    "\n",
    "jsonFileDir = '../data/techniques-rmse-diagram.json'\n",
    "\n",
    "rmse_data = JSON(jsonFileDir)"
   ]
  },
  {
   "cell_type": "code",
   "execution_count": null,
   "metadata": {},
   "outputs": [],
   "source": [
    "# Update the RMSE Data\n",
    "\n",
    "rmse_data.data[eval][\"box\"].update({\n",
    "    \"rmse\": rmse,\n",
    "    \"inlier_rmse\": MeterToMilimeter(icpRegResults.inlier_rmse) # Convert to mm (Milimeters)\n",
    "})\n",
    "\n",
    "rmse_data.print()\n",
    "\n",
    "rmse_data.save()"
   ]
  },
  {
   "cell_type": "code",
   "execution_count": null,
   "metadata": {},
   "outputs": [],
   "source": [
    "# Plot the Figure with Current RMSE Data\n",
    "\n",
    "fig = plot_technique_rmse(rmse_data.data, eval)\n",
    "\n",
    "fig.show()"
   ]
  },
  {
   "cell_type": "code",
   "execution_count": null,
   "metadata": {},
   "outputs": [],
   "source": [
    "# Save Figure\n",
    "\n",
    "fig.savefig(\"../data/techniques-rmse-diagram.png\", format=\"png\", dpi=300)"
   ]
  }
 ],
 "metadata": {
  "kernelspec": {
   "display_name": "Python 3",
   "language": "python",
   "name": "python3"
  },
  "language_info": {
   "codemirror_mode": {
    "name": "ipython",
    "version": 3
   },
   "file_extension": ".py",
   "mimetype": "text/x-python",
   "name": "python",
   "nbconvert_exporter": "python",
   "pygments_lexer": "ipython3",
   "version": "3.10.10"
  },
  "orig_nbformat": 4
 },
 "nbformat": 4,
 "nbformat_minor": 2
}
