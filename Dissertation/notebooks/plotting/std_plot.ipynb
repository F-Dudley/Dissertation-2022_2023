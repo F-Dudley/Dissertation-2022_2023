{
 "cells": [
  {
   "cell_type": "code",
   "execution_count": null,
   "metadata": {},
   "outputs": [],
   "source": [
    "import open3d as o3d\n",
    "import numpy as np\n",
    "\n",
    "from Eval.Mesh import CreatePointcloudFromDir\n",
    "from Eval.Clouds.Sphere import CreateBaseSpherePointCloud\n",
    "from Eval.Plotting import plot_technique_std\n",
    "from Eval.Info import SCANNING_TECHNIQUES\n",
    "from Utils.Format import MilimeterToMeter\n",
    "from Utils.Data import JSON"
   ]
  },
  {
   "cell_type": "code",
   "execution_count": null,
   "metadata": {},
   "outputs": [],
   "source": [
    "# Main Settings\n",
    "\n",
    "eval = 'Point_E' # Either Kinect, PolyCam or Point_E\n",
    "\n",
    "assert eval in SCANNING_TECHNIQUES, f'Invalid Evaluation Technique: {eval}'\n",
    "\n",
    "evalCloudDir = f'../data/{eval}/sphere.ply'"
   ]
  },
  {
   "attachments": {},
   "cell_type": "markdown",
   "metadata": {},
   "source": [
    "### Distance Compute"
   ]
  },
  {
   "cell_type": "code",
   "execution_count": null,
   "metadata": {},
   "outputs": [],
   "source": [
    "baseSphere = CreateBaseSpherePointCloud(diameter = MilimeterToMeter(200), resolution=5000)\n",
    "\n",
    "collectedSphere = CreatePointcloudFromDir(evalCloudDir)\n",
    "\n",
    "# Perform Data Adjustment based on know problems with Each technique.\n",
    "match eval:\n",
    "    case 'Kinect':\n",
    "        print(\"Performing Kinect Data Adjustment\")\n",
    "        collectedSphere = collectedSphere.uniform_down_sample(every_k_points=5)\n",
    "    \n",
    "    case 'PolyCam':\n",
    "        print(\"Performing PolyCam Data Adjustment\")\n",
    "        collectedSphere = collectedSphere.uniform_down_sample(every_k_points=10)\n",
    "\n",
    "    case 'Point_E':\n",
    "        print(\"Performing Point_E Data Adjustment\")\n",
    "\n",
    "        print(\"Scaling Point_E Data to Match Meter Units\")\n",
    "        collectedSphere.scale(MilimeterToMeter(200), collectedSphere.get_center())\n"
   ]
  },
  {
   "cell_type": "code",
   "execution_count": null,
   "metadata": {},
   "outputs": [],
   "source": [
    "# Perform ICP Registration to Obtain a Transformation Matrix\n",
    "# This allows for more accurate comparison of the clouds, by making them similar positioning.\n",
    "\n",
    "\n",
    "icpRegResults = o3d.pipelines.registration.registration_icp(collectedSphere, \n",
    "                                                            baseSphere, \n",
    "                                                            0.1, \n",
    "                                                            np.identity(4), \n",
    "                                                            o3d.pipelines.registration.TransformationEstimationPointToPoint(), \n",
    "                                                            o3d.pipelines.registration.ICPConvergenceCriteria(max_iteration=1000))\n",
    "\n",
    "print(icpRegResults)\n",
    "\n",
    "# Apply the Transformation Matrix to the Obtained Data Clouds\n",
    "collectedSphere.transform(icpRegResults.transformation)"
   ]
  },
  {
   "attachments": {},
   "cell_type": "markdown",
   "metadata": {},
   "source": [
    "### Collect Data"
   ]
  },
  {
   "cell_type": "code",
   "execution_count": null,
   "metadata": {},
   "outputs": [],
   "source": [
    "# Get Distance Data\n",
    "distances = np.array(collectedSphere.compute_point_cloud_distance(baseSphere))\n",
    "\n",
    "distances *= 1000 # Convert to Milimeters"
   ]
  },
  {
   "cell_type": "code",
   "execution_count": null,
   "metadata": {},
   "outputs": [],
   "source": [
    "# Get Standard Graph Data\n",
    "# Make sure all graphs are the same size\n",
    "\n",
    "stdJSON = JSON('../data/techniques-std-data.json')\n",
    "\n",
    "graphStandards = stdJSON.data[\"STANDARDS\"]\n",
    "\n",
    "del stdJSON"
   ]
  },
  {
   "attachments": {},
   "cell_type": "markdown",
   "metadata": {},
   "source": [
    "### Plot Bell Curve"
   ]
  },
  {
   "cell_type": "code",
   "execution_count": null,
   "metadata": {},
   "outputs": [],
   "source": [
    "stdFig = plot_technique_std(\n",
    "    distances,  # type: ignore\n",
    "    graphStandards,\n",
    "    eval,\n",
    "    bins=100,\n",
    "    hist_color='b', curve_color='r', \n",
    "    hist_alpha=0.5, curve_alpha=0.7,\n",
    "    mean_color='g', std_color='y',\n",
    ")\n",
    "\n",
    "stdFig.show()"
   ]
  },
  {
   "cell_type": "code",
   "execution_count": null,
   "metadata": {},
   "outputs": [],
   "source": [
    "stdFig.savefig(f'../data/{eval}-std-diagram.png', format='png', dpi=300)"
   ]
  }
 ],
 "metadata": {
  "kernelspec": {
   "display_name": "Python 3",
   "language": "python",
   "name": "python3"
  },
  "language_info": {
   "codemirror_mode": {
    "name": "ipython",
    "version": 3
   },
   "file_extension": ".py",
   "mimetype": "text/x-python",
   "name": "python",
   "nbconvert_exporter": "python",
   "pygments_lexer": "ipython3",
   "version": "3.10.10"
  },
  "orig_nbformat": 4
 },
 "nbformat": 4,
 "nbformat_minor": 2
}
