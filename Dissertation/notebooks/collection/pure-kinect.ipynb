{
 "cells": [
  {
   "cell_type": "code",
   "execution_count": 22,
   "metadata": {},
   "outputs": [],
   "source": [
    "import numpy as np\n",
    "import open3d as o3d\n",
    "from pykinect2 import PyKinectV2\n",
    "from pykinect2 import PyKinectRuntime\n",
    "\n"
   ]
  },
  {
   "cell_type": "code",
   "execution_count": 41,
   "metadata": {},
   "outputs": [],
   "source": [
    "# Main Settings\n",
    "\n",
    "# Angle between each scan in degrees\n",
    "ANGLE_INCR: int = 45\n",
    "\n",
    "MIN_DEPTH: int = 800\n",
    "MAX_DEPTH: int = 1500\n",
    "\n",
    "MIN_X: int = 200\n",
    "MAX_X: int = 420\n",
    "\n",
    "MIN_Y: int = 120\n",
    "MAX_Y: int = 217\n",
    "\n",
    "# The target object type.\n",
    "TARGET: str = 'sphere'"
   ]
  },
  {
   "cell_type": "code",
   "execution_count": 3,
   "metadata": {},
   "outputs": [],
   "source": [
    "# Initialize Kinect\n",
    "kinect = PyKinectRuntime.PyKinectRuntime(PyKinectV2.FrameSourceTypes_Depth)"
   ]
  },
  {
   "cell_type": "code",
   "execution_count": 4,
   "metadata": {},
   "outputs": [],
   "source": [
    "# Initialize Pointclouds Container\n",
    "pcds = []"
   ]
  },
  {
   "cell_type": "code",
   "execution_count": null,
   "metadata": {},
   "outputs": [],
   "source": [
    "#viz = o3d.visualization.Visualizer()\n",
    "#viz.create_window(window_name='KinectScan', width=720, height=480, visible=True)"
   ]
  },
  {
   "cell_type": "code",
   "execution_count": 42,
   "metadata": {},
   "outputs": [
    {
     "name": "stdout",
     "output_type": "stream",
     "text": [
      "Capturing Pointcloud at 0 degrees.\n",
      "Rotating Pointcloud by 0 degrees...\n",
      "Visualizing Pointcloud\n"
     ]
    }
   ],
   "source": [
    "for angle in range(0, 360, ANGLE_INCR):\n",
    "    \n",
    "    # Wait for Input\n",
    "    i = input(\"Press Enter to continue...\")\n",
    "    if i == 'q':\n",
    "        break\n",
    "\n",
    "    print(f\"Capturing Pointcloud at {angle} degrees.\")\n",
    "\n",
    "    depth_frame = np.reshape(kinect.get_last_depth_frame(), (424, 512)).astype(np.uint16)                       # type: ignore\n",
    "\n",
    "    # Filter Image\n",
    "    depth_frame = np.where((depth_frame >= MIN_DEPTH) & (depth_frame <= MAX_DEPTH), depth_frame, 0)\n",
    "    depth_frame[:MIN_Y, :] = 0\n",
    "    depth_frame[MAX_Y:, :] = 0\n",
    "    depth_frame[:, :MIN_X] = 0\n",
    "    depth_frame[:, MAX_X:] = 0\n",
    "\n",
    "    # Create Open3D Depth Image from Raw Depth Frame\n",
    "    depth_image = o3d.geometry.Image(depth_frame)\n",
    "\n",
    "    # Create Pointcloud\n",
    "    pcd = o3d.geometry.PointCloud.create_from_depth_image(\n",
    "        depth_image,\n",
    "        o3d.camera.PinholeCameraIntrinsic(\n",
    "            o3d.camera.PinholeCameraIntrinsicParameters.Kinect2DepthCameraDefault\n",
    "        )\n",
    "    )\n",
    "\n",
    "    # Rotate Pointcloud\n",
    "    print(f'Rotating Pointcloud by {angle} degrees...')\n",
    "    rotation = o3d.geometry.get_rotation_matrix_from_xyz((0, np.deg2rad(angle), 0))\n",
    "    pcd.rotate(rotation)\n",
    "\n",
    "    # Visualize Pointcloud\n",
    "    if angle == 0:\n",
    "        print(\"Visualizing Pointcloud\")\n",
    "        o3d.visualization.draw_geometries([pcd])\n",
    "        \n",
    "        if input(\"Continue? [y/n]\").lower() == 'n':\n",
    "            break\n",
    "\n",
    "    # Save the Pointcloud\n",
    "    print(\"Writing to File\")\n",
    "    o3d.io.write_point_cloud(f'../data/Kinect/{TARGET}/raw/{angle}.ply', pcd)\n",
    "\n",
    "    pcds.append(pcd)\n",
    "\n",
    "\n",
    "\n",
    "kinect.close()"
   ]
  },
  {
   "cell_type": "code",
   "execution_count": null,
   "metadata": {},
   "outputs": [],
   "source": [
    "del kinect"
   ]
  },
  {
   "cell_type": "code",
   "execution_count": null,
   "metadata": {},
   "outputs": [],
   "source": [
    "# Register Collected Pointclouds\n",
    "\n",
    "assert len(pcds) > 0, \"-- No Pointclouds Collected --\"\n",
    "print(f'-- {len(pcds)} Pointclouds Collected --')\n",
    "\n",
    "\n",
    "final_pcd = pcds[0]\n",
    "for pcd in pcds[1:]:\n",
    "    print(\"Performing ICP Registration...\")\n",
    "    icpRegResults = o3d.pipelines.registration.registration_icp(\n",
    "        pcd, \n",
    "        final_pcd, \n",
    "        0.1, \n",
    "        np.identity(4), \n",
    "        o3d.pipelines.registration.TransformationEstimationPointToPoint(), \n",
    "        o3d.pipelines.registration.ICPConvergenceCriteria(max_iteration=1000)\n",
    "    )\n",
    "\n",
    "    pcd.transform(icpRegResults.transformation)\n",
    "    final_pcd += pcd"
   ]
  },
  {
   "cell_type": "code",
   "execution_count": null,
   "metadata": {},
   "outputs": [],
   "source": [
    "# Visualize Result\n",
    "\n",
    "o3d.visualization.draw_geometries([final_pcd])"
   ]
  },
  {
   "cell_type": "code",
   "execution_count": null,
   "metadata": {},
   "outputs": [],
   "source": [
    "# Save Result\n",
    "\n",
    "o3d.io.write_point_cloud(f'../data/Kinect/{TARGET}/result.ply', final_pcd)"
   ]
  }
 ],
 "metadata": {
  "kernelspec": {
   "display_name": "Python 3",
   "language": "python",
   "name": "python3"
  },
  "language_info": {
   "codemirror_mode": {
    "name": "ipython",
    "version": 3
   },
   "file_extension": ".py",
   "mimetype": "text/x-python",
   "name": "python",
   "nbconvert_exporter": "python",
   "pygments_lexer": "ipython3",
   "version": "3.10.10"
  },
  "orig_nbformat": 4,
  "vscode": {
   "interpreter": {
    "hash": "fa3b4bcd30999d4dd3b7790820c45ccaef78365348c8c252963eb6d102622af6"
   }
  }
 },
 "nbformat": 4,
 "nbformat_minor": 2
}
