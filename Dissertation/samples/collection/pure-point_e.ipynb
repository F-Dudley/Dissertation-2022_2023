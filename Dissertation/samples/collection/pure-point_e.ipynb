{
 "cells": [
  {
   "attachments": {},
   "cell_type": "markdown",
   "metadata": {},
   "source": [
    "<h1>Point_E Model Scanning Sample</h1>"
   ]
  },
  {
   "attachments": {},
   "cell_type": "markdown",
   "metadata": {},
   "source": [
    "<h3>Point_E Image To PointCloud<h3/>"
   ]
  },
  {
   "cell_type": "code",
   "execution_count": 2,
   "metadata": {},
   "outputs": [],
   "source": [
    "import tqdm\n",
    "from AIScan import CloudSampler\n",
    "from AIScan.Models import CreateModel\n",
    "from Utils.Data import getPathImages, getPathNPBinaries\n",
    "from Utils.Torch import UseBestTorchDevice\n",
    "\n",
    "from point_e.util.point_cloud import PointCloud\n",
    "from point_e.util.mesh import TriMesh\n",
    "from point_e.util.pc_to_mesh import marching_cubes_mesh\n",
    "from point_e.util.plotting import plot_point_cloud\n",
    "\n",
    "srcPath = './data/Skull'"
   ]
  },
  {
   "cell_type": "code",
   "execution_count": 5,
   "metadata": {},
   "outputs": [
    {
     "name": "stdout",
     "output_type": "stream",
     "text": [
      "Using cuda device for Torch Model.\n",
      "Loading base1B Model\n"
     ]
    },
    {
     "name": "stderr",
     "output_type": "stream",
     "text": [
      "c:\\Users\\finnd\\AppData\\Local\\Programs\\Python\\Python310\\lib\\site-packages\\clip\\clip.py:57: UserWarning: d:\\Programming\\Projects\\Dissertation-2022_2023\\Dissertation\\samples\\point_e_model_cache\\ViT-L-14.pt exists, but the SHA256 checksum does not match; re-downloading the file\n",
      "  warnings.warn(f\"{download_target} exists, but the SHA256 checksum does not match; re-downloading the file\")\n",
      "100%|███████████████████████████████████████| 890M/890M [02:51<00:00, 5.45MiB/s]\n"
     ]
    },
    {
     "ename": "OutOfMemoryError",
     "evalue": "CUDA out of memory. Tried to allocate 48.00 MiB (GPU 0; 6.00 GiB total capacity; 5.32 GiB already allocated; 0 bytes free; 5.33 GiB reserved in total by PyTorch) If reserved memory is >> allocated memory try setting max_split_size_mb to avoid fragmentation.  See documentation for Memory Management and PYTORCH_CUDA_ALLOC_CONF",
     "output_type": "error",
     "traceback": [
      "\u001b[1;31m---------------------------------------------------------------------------\u001b[0m",
      "\u001b[1;31mOutOfMemoryError\u001b[0m                          Traceback (most recent call last)",
      "Cell \u001b[1;32mIn[5], line 3\u001b[0m\n\u001b[0;32m      1\u001b[0m \u001b[39m# Loading Sampler For Chosen Cloud\u001b[39;00m\n\u001b[1;32m----> 3\u001b[0m sampler \u001b[39m=\u001b[39m CloudSampler\u001b[39m.\u001b[39;49mCreateCloudSampler(\u001b[39m'\u001b[39;49m\u001b[39mbase1B\u001b[39;49m\u001b[39m'\u001b[39;49m)\n",
      "File \u001b[1;32md:\\programming\\projects\\dissertation-2022_2023\\dissertation\\AIScan\\CloudSampler.py:14\u001b[0m, in \u001b[0;36mCreateCloudSampler\u001b[1;34m(baseName, numPoints)\u001b[0m\n\u001b[0;32m     10\u001b[0m \u001b[39m\u001b[39m\u001b[39m\"\"\"Creates a Sampler and Model for the given Model Name\"\"\"\u001b[39;00m\n\u001b[0;32m     12\u001b[0m bestDevice \u001b[39m=\u001b[39m UseBestTorchDevice()\n\u001b[1;32m---> 14\u001b[0m base_model \u001b[39m=\u001b[39m CreateModel(modelName\u001b[39m=\u001b[39;49mbaseName, device\u001b[39m=\u001b[39;49mbestDevice)\n\u001b[0;32m     15\u001b[0m upsampler_model \u001b[39m=\u001b[39m CreateModel(modelName\u001b[39m=\u001b[39m\u001b[39m'\u001b[39m\u001b[39mupsample\u001b[39m\u001b[39m'\u001b[39m, device\u001b[39m=\u001b[39mbestDevice)\n\u001b[0;32m     17\u001b[0m base_diffusion \u001b[39m=\u001b[39m CreateDiffusion(baseName)\n",
      "File \u001b[1;32md:\\programming\\projects\\dissertation-2022_2023\\dissertation\\AIScan\\Models.py:11\u001b[0m, in \u001b[0;36mCreateModel\u001b[1;34m(modelName, device)\u001b[0m\n\u001b[0;32m      9\u001b[0m \u001b[39mdef\u001b[39;00m \u001b[39mCreateModel\u001b[39m(modelName: \u001b[39mstr\u001b[39m, device: torch\u001b[39m.\u001b[39mdevice) \u001b[39m-\u001b[39m\u001b[39m>\u001b[39m torch\u001b[39m.\u001b[39mnn\u001b[39m.\u001b[39mModule:\n\u001b[0;32m     10\u001b[0m     \u001b[39mprint\u001b[39m(\u001b[39mf\u001b[39m\u001b[39m'\u001b[39m\u001b[39mLoading \u001b[39m\u001b[39m{\u001b[39;00mmodelName\u001b[39m}\u001b[39;00m\u001b[39m Model\u001b[39m\u001b[39m'\u001b[39m)\n\u001b[1;32m---> 11\u001b[0m     model \u001b[39m=\u001b[39m model_from_config(MODEL_CONFIGS[modelName], device)\n\u001b[0;32m     12\u001b[0m     model\u001b[39m.\u001b[39meval()\n\u001b[0;32m     14\u001b[0m     \u001b[39mprint\u001b[39m(\u001b[39m'\u001b[39m\u001b[39mLoading Base Model Checkpoint\u001b[39m\u001b[39m'\u001b[39m)\n",
      "File \u001b[1;32mc:\\Users\\finnd\\AppData\\Local\\Programs\\Python\\Python310\\lib\\site-packages\\point_e\\models\\configs.py:125\u001b[0m, in \u001b[0;36mmodel_from_config\u001b[1;34m(config, device)\u001b[0m\n\u001b[0;32m    123\u001b[0m     \u001b[39mreturn\u001b[39;00m CLIPImagePointDiffusionTransformer(device\u001b[39m=\u001b[39mdevice, dtype\u001b[39m=\u001b[39mtorch\u001b[39m.\u001b[39mfloat32, \u001b[39m*\u001b[39m\u001b[39m*\u001b[39mconfig)\n\u001b[0;32m    124\u001b[0m \u001b[39melif\u001b[39;00m name \u001b[39m==\u001b[39m \u001b[39m\"\u001b[39m\u001b[39mCLIPImageGridPointDiffusionTransformer\u001b[39m\u001b[39m\"\u001b[39m:\n\u001b[1;32m--> 125\u001b[0m     \u001b[39mreturn\u001b[39;00m CLIPImageGridPointDiffusionTransformer(device\u001b[39m=\u001b[39mdevice, dtype\u001b[39m=\u001b[39mtorch\u001b[39m.\u001b[39mfloat32, \u001b[39m*\u001b[39m\u001b[39m*\u001b[39mconfig)\n\u001b[0;32m    126\u001b[0m \u001b[39melif\u001b[39;00m name \u001b[39m==\u001b[39m \u001b[39m\"\u001b[39m\u001b[39mUpsamplePointDiffusionTransformer\u001b[39m\u001b[39m\"\u001b[39m:\n\u001b[0;32m    127\u001b[0m     \u001b[39mreturn\u001b[39;00m UpsamplePointDiffusionTransformer(device\u001b[39m=\u001b[39mdevice, dtype\u001b[39m=\u001b[39mtorch\u001b[39m.\u001b[39mfloat32, \u001b[39m*\u001b[39m\u001b[39m*\u001b[39mconfig)\n",
      "File \u001b[1;32mc:\\Users\\finnd\\AppData\\Local\\Programs\\Python\\Python310\\lib\\site-packages\\point_e\\models\\transformer.py:306\u001b[0m, in \u001b[0;36mCLIPImageGridPointDiffusionTransformer.__init__\u001b[1;34m(self, device, dtype, n_ctx, cond_drop_prob, frozen_clip, cache_dir, **kwargs)\u001b[0m\n\u001b[0;32m    291\u001b[0m \u001b[39mdef\u001b[39;00m \u001b[39m__init__\u001b[39m(\n\u001b[0;32m    292\u001b[0m     \u001b[39mself\u001b[39m,\n\u001b[0;32m    293\u001b[0m     \u001b[39m*\u001b[39m,\n\u001b[1;32m   (...)\u001b[0m\n\u001b[0;32m    300\u001b[0m     \u001b[39m*\u001b[39m\u001b[39m*\u001b[39mkwargs,\n\u001b[0;32m    301\u001b[0m ):\n\u001b[0;32m    302\u001b[0m     clip \u001b[39m=\u001b[39m (FrozenImageCLIP \u001b[39mif\u001b[39;00m frozen_clip \u001b[39melse\u001b[39;00m ImageCLIP)(\n\u001b[0;32m    303\u001b[0m         device,\n\u001b[0;32m    304\u001b[0m         cache_dir\u001b[39m=\u001b[39mcache_dir,\n\u001b[0;32m    305\u001b[0m     )\n\u001b[1;32m--> 306\u001b[0m     \u001b[39msuper\u001b[39m()\u001b[39m.\u001b[39m\u001b[39m__init__\u001b[39m(device\u001b[39m=\u001b[39mdevice, dtype\u001b[39m=\u001b[39mdtype, n_ctx\u001b[39m=\u001b[39mn_ctx \u001b[39m+\u001b[39m clip\u001b[39m.\u001b[39mgrid_size\u001b[39m*\u001b[39m\u001b[39m*\u001b[39m\u001b[39m2\u001b[39m, \u001b[39m*\u001b[39m\u001b[39m*\u001b[39mkwargs)\n\u001b[0;32m    307\u001b[0m     \u001b[39mself\u001b[39m\u001b[39m.\u001b[39mn_ctx \u001b[39m=\u001b[39m n_ctx\n\u001b[0;32m    308\u001b[0m     \u001b[39mself\u001b[39m\u001b[39m.\u001b[39mclip \u001b[39m=\u001b[39m clip\n",
      "File \u001b[1;32mc:\\Users\\finnd\\AppData\\Local\\Programs\\Python\\Python310\\lib\\site-packages\\point_e\\models\\transformer.py:179\u001b[0m, in \u001b[0;36mPointDiffusionTransformer.__init__\u001b[1;34m(self, device, dtype, input_channels, output_channels, n_ctx, width, layers, heads, init_scale, time_token_cond)\u001b[0m\n\u001b[0;32m    175\u001b[0m \u001b[39mself\u001b[39m\u001b[39m.\u001b[39mtime_embed \u001b[39m=\u001b[39m MLP(\n\u001b[0;32m    176\u001b[0m     device\u001b[39m=\u001b[39mdevice, dtype\u001b[39m=\u001b[39mdtype, width\u001b[39m=\u001b[39mwidth, init_scale\u001b[39m=\u001b[39minit_scale \u001b[39m*\u001b[39m math\u001b[39m.\u001b[39msqrt(\u001b[39m1.0\u001b[39m \u001b[39m/\u001b[39m width)\n\u001b[0;32m    177\u001b[0m )\n\u001b[0;32m    178\u001b[0m \u001b[39mself\u001b[39m\u001b[39m.\u001b[39mln_pre \u001b[39m=\u001b[39m nn\u001b[39m.\u001b[39mLayerNorm(width, device\u001b[39m=\u001b[39mdevice, dtype\u001b[39m=\u001b[39mdtype)\n\u001b[1;32m--> 179\u001b[0m \u001b[39mself\u001b[39m\u001b[39m.\u001b[39mbackbone \u001b[39m=\u001b[39m Transformer(\n\u001b[0;32m    180\u001b[0m     device\u001b[39m=\u001b[39;49mdevice,\n\u001b[0;32m    181\u001b[0m     dtype\u001b[39m=\u001b[39;49mdtype,\n\u001b[0;32m    182\u001b[0m     n_ctx\u001b[39m=\u001b[39;49mn_ctx \u001b[39m+\u001b[39;49m \u001b[39mint\u001b[39;49m(time_token_cond),\n\u001b[0;32m    183\u001b[0m     width\u001b[39m=\u001b[39;49mwidth,\n\u001b[0;32m    184\u001b[0m     layers\u001b[39m=\u001b[39;49mlayers,\n\u001b[0;32m    185\u001b[0m     heads\u001b[39m=\u001b[39;49mheads,\n\u001b[0;32m    186\u001b[0m     init_scale\u001b[39m=\u001b[39;49minit_scale,\n\u001b[0;32m    187\u001b[0m )\n\u001b[0;32m    188\u001b[0m \u001b[39mself\u001b[39m\u001b[39m.\u001b[39mln_post \u001b[39m=\u001b[39m nn\u001b[39m.\u001b[39mLayerNorm(width, device\u001b[39m=\u001b[39mdevice, dtype\u001b[39m=\u001b[39mdtype)\n\u001b[0;32m    189\u001b[0m \u001b[39mself\u001b[39m\u001b[39m.\u001b[39minput_proj \u001b[39m=\u001b[39m nn\u001b[39m.\u001b[39mLinear(input_channels, width, device\u001b[39m=\u001b[39mdevice, dtype\u001b[39m=\u001b[39mdtype)\n",
      "File \u001b[1;32mc:\\Users\\finnd\\AppData\\Local\\Programs\\Python\\Python310\\lib\\site-packages\\point_e\\models\\transformer.py:136\u001b[0m, in \u001b[0;36mTransformer.__init__\u001b[1;34m(self, device, dtype, n_ctx, width, layers, heads, init_scale)\u001b[0m\n\u001b[0;32m    133\u001b[0m \u001b[39mself\u001b[39m\u001b[39m.\u001b[39mlayers \u001b[39m=\u001b[39m layers\n\u001b[0;32m    134\u001b[0m init_scale \u001b[39m=\u001b[39m init_scale \u001b[39m*\u001b[39m math\u001b[39m.\u001b[39msqrt(\u001b[39m1.0\u001b[39m \u001b[39m/\u001b[39m width)\n\u001b[0;32m    135\u001b[0m \u001b[39mself\u001b[39m\u001b[39m.\u001b[39mresblocks \u001b[39m=\u001b[39m nn\u001b[39m.\u001b[39mModuleList(\n\u001b[1;32m--> 136\u001b[0m     [\n\u001b[0;32m    137\u001b[0m         ResidualAttentionBlock(\n\u001b[0;32m    138\u001b[0m             device\u001b[39m=\u001b[39mdevice,\n\u001b[0;32m    139\u001b[0m             dtype\u001b[39m=\u001b[39mdtype,\n\u001b[0;32m    140\u001b[0m             n_ctx\u001b[39m=\u001b[39mn_ctx,\n\u001b[0;32m    141\u001b[0m             width\u001b[39m=\u001b[39mwidth,\n\u001b[0;32m    142\u001b[0m             heads\u001b[39m=\u001b[39mheads,\n\u001b[0;32m    143\u001b[0m             init_scale\u001b[39m=\u001b[39minit_scale,\n\u001b[0;32m    144\u001b[0m         )\n\u001b[0;32m    145\u001b[0m         \u001b[39mfor\u001b[39;00m _ \u001b[39min\u001b[39;00m \u001b[39mrange\u001b[39m(layers)\n\u001b[0;32m    146\u001b[0m     ]\n\u001b[0;32m    147\u001b[0m )\n",
      "File \u001b[1;32mc:\\Users\\finnd\\AppData\\Local\\Programs\\Python\\Python310\\lib\\site-packages\\point_e\\models\\transformer.py:137\u001b[0m, in \u001b[0;36m<listcomp>\u001b[1;34m(.0)\u001b[0m\n\u001b[0;32m    133\u001b[0m \u001b[39mself\u001b[39m\u001b[39m.\u001b[39mlayers \u001b[39m=\u001b[39m layers\n\u001b[0;32m    134\u001b[0m init_scale \u001b[39m=\u001b[39m init_scale \u001b[39m*\u001b[39m math\u001b[39m.\u001b[39msqrt(\u001b[39m1.0\u001b[39m \u001b[39m/\u001b[39m width)\n\u001b[0;32m    135\u001b[0m \u001b[39mself\u001b[39m\u001b[39m.\u001b[39mresblocks \u001b[39m=\u001b[39m nn\u001b[39m.\u001b[39mModuleList(\n\u001b[0;32m    136\u001b[0m     [\n\u001b[1;32m--> 137\u001b[0m         ResidualAttentionBlock(\n\u001b[0;32m    138\u001b[0m             device\u001b[39m=\u001b[39;49mdevice,\n\u001b[0;32m    139\u001b[0m             dtype\u001b[39m=\u001b[39;49mdtype,\n\u001b[0;32m    140\u001b[0m             n_ctx\u001b[39m=\u001b[39;49mn_ctx,\n\u001b[0;32m    141\u001b[0m             width\u001b[39m=\u001b[39;49mwidth,\n\u001b[0;32m    142\u001b[0m             heads\u001b[39m=\u001b[39;49mheads,\n\u001b[0;32m    143\u001b[0m             init_scale\u001b[39m=\u001b[39;49minit_scale,\n\u001b[0;32m    144\u001b[0m         )\n\u001b[0;32m    145\u001b[0m         \u001b[39mfor\u001b[39;00m _ \u001b[39min\u001b[39;00m \u001b[39mrange\u001b[39m(layers)\n\u001b[0;32m    146\u001b[0m     ]\n\u001b[0;32m    147\u001b[0m )\n",
      "File \u001b[1;32mc:\\Users\\finnd\\AppData\\Local\\Programs\\Python\\Python310\\lib\\site-packages\\point_e\\models\\transformer.py:100\u001b[0m, in \u001b[0;36mResidualAttentionBlock.__init__\u001b[1;34m(self, device, dtype, n_ctx, width, heads, init_scale)\u001b[0m\n\u001b[0;32m     88\u001b[0m \u001b[39mdef\u001b[39;00m \u001b[39m__init__\u001b[39m(\n\u001b[0;32m     89\u001b[0m     \u001b[39mself\u001b[39m,\n\u001b[0;32m     90\u001b[0m     \u001b[39m*\u001b[39m,\n\u001b[1;32m   (...)\u001b[0m\n\u001b[0;32m     96\u001b[0m     init_scale: \u001b[39mfloat\u001b[39m \u001b[39m=\u001b[39m \u001b[39m1.0\u001b[39m,\n\u001b[0;32m     97\u001b[0m ):\n\u001b[0;32m     98\u001b[0m     \u001b[39msuper\u001b[39m()\u001b[39m.\u001b[39m\u001b[39m__init__\u001b[39m()\n\u001b[1;32m--> 100\u001b[0m     \u001b[39mself\u001b[39m\u001b[39m.\u001b[39mattn \u001b[39m=\u001b[39m MultiheadAttention(\n\u001b[0;32m    101\u001b[0m         device\u001b[39m=\u001b[39;49mdevice,\n\u001b[0;32m    102\u001b[0m         dtype\u001b[39m=\u001b[39;49mdtype,\n\u001b[0;32m    103\u001b[0m         n_ctx\u001b[39m=\u001b[39;49mn_ctx,\n\u001b[0;32m    104\u001b[0m         width\u001b[39m=\u001b[39;49mwidth,\n\u001b[0;32m    105\u001b[0m         heads\u001b[39m=\u001b[39;49mheads,\n\u001b[0;32m    106\u001b[0m         init_scale\u001b[39m=\u001b[39;49minit_scale,\n\u001b[0;32m    107\u001b[0m     )\n\u001b[0;32m    108\u001b[0m     \u001b[39mself\u001b[39m\u001b[39m.\u001b[39mln_1 \u001b[39m=\u001b[39m nn\u001b[39m.\u001b[39mLayerNorm(width, device\u001b[39m=\u001b[39mdevice, dtype\u001b[39m=\u001b[39mdtype)\n\u001b[0;32m    109\u001b[0m     \u001b[39mself\u001b[39m\u001b[39m.\u001b[39mmlp \u001b[39m=\u001b[39m MLP(device\u001b[39m=\u001b[39mdevice, dtype\u001b[39m=\u001b[39mdtype, width\u001b[39m=\u001b[39mwidth, init_scale\u001b[39m=\u001b[39minit_scale)\n",
      "File \u001b[1;32mc:\\Users\\finnd\\AppData\\Local\\Programs\\Python\\Python310\\lib\\site-packages\\point_e\\models\\transformer.py:38\u001b[0m, in \u001b[0;36mMultiheadAttention.__init__\u001b[1;34m(self, device, dtype, n_ctx, width, heads, init_scale)\u001b[0m\n\u001b[0;32m     36\u001b[0m \u001b[39mself\u001b[39m\u001b[39m.\u001b[39mwidth \u001b[39m=\u001b[39m width\n\u001b[0;32m     37\u001b[0m \u001b[39mself\u001b[39m\u001b[39m.\u001b[39mheads \u001b[39m=\u001b[39m heads\n\u001b[1;32m---> 38\u001b[0m \u001b[39mself\u001b[39m\u001b[39m.\u001b[39mc_qkv \u001b[39m=\u001b[39m nn\u001b[39m.\u001b[39;49mLinear(width, width \u001b[39m*\u001b[39;49m \u001b[39m3\u001b[39;49m, device\u001b[39m=\u001b[39;49mdevice, dtype\u001b[39m=\u001b[39;49mdtype)\n\u001b[0;32m     39\u001b[0m \u001b[39mself\u001b[39m\u001b[39m.\u001b[39mc_proj \u001b[39m=\u001b[39m nn\u001b[39m.\u001b[39mLinear(width, width, device\u001b[39m=\u001b[39mdevice, dtype\u001b[39m=\u001b[39mdtype)\n\u001b[0;32m     40\u001b[0m \u001b[39mself\u001b[39m\u001b[39m.\u001b[39mattention \u001b[39m=\u001b[39m QKVMultiheadAttention(device\u001b[39m=\u001b[39mdevice, dtype\u001b[39m=\u001b[39mdtype, heads\u001b[39m=\u001b[39mheads, n_ctx\u001b[39m=\u001b[39mn_ctx)\n",
      "File \u001b[1;32mc:\\Users\\finnd\\AppData\\Local\\Programs\\Python\\Python310\\lib\\site-packages\\torch\\nn\\modules\\linear.py:96\u001b[0m, in \u001b[0;36mLinear.__init__\u001b[1;34m(self, in_features, out_features, bias, device, dtype)\u001b[0m\n\u001b[0;32m     94\u001b[0m \u001b[39mself\u001b[39m\u001b[39m.\u001b[39min_features \u001b[39m=\u001b[39m in_features\n\u001b[0;32m     95\u001b[0m \u001b[39mself\u001b[39m\u001b[39m.\u001b[39mout_features \u001b[39m=\u001b[39m out_features\n\u001b[1;32m---> 96\u001b[0m \u001b[39mself\u001b[39m\u001b[39m.\u001b[39mweight \u001b[39m=\u001b[39m Parameter(torch\u001b[39m.\u001b[39mempty((out_features, in_features), \u001b[39m*\u001b[39m\u001b[39m*\u001b[39mfactory_kwargs))\n\u001b[0;32m     97\u001b[0m \u001b[39mif\u001b[39;00m bias:\n\u001b[0;32m     98\u001b[0m     \u001b[39mself\u001b[39m\u001b[39m.\u001b[39mbias \u001b[39m=\u001b[39m Parameter(torch\u001b[39m.\u001b[39mempty(out_features, \u001b[39m*\u001b[39m\u001b[39m*\u001b[39mfactory_kwargs))\n",
      "\u001b[1;31mOutOfMemoryError\u001b[0m: CUDA out of memory. Tried to allocate 48.00 MiB (GPU 0; 6.00 GiB total capacity; 5.32 GiB already allocated; 0 bytes free; 5.33 GiB reserved in total by PyTorch) If reserved memory is >> allocated memory try setting max_split_size_mb to avoid fragmentation.  See documentation for Memory Management and PYTORCH_CUDA_ALLOC_CONF"
     ]
    }
   ],
   "source": [
    "# Loading Sampler For Chosen Cloud\n",
    "\n",
    "sampler = CloudSampler.CreateCloudSampler('base1B')"
   ]
  },
  {
   "cell_type": "code",
   "execution_count": null,
   "metadata": {},
   "outputs": [],
   "source": [
    "# Loading Images From Provided Source Path (Provided In First Cell)\n",
    "\n",
    "images = getPathImages(srcPath)\n",
    "if (len(images) == 0):\n",
    "    print(\"--__ No Images Found __--\")\n",
    "    exit()"
   ]
  },
  {
   "cell_type": "code",
   "execution_count": null,
   "metadata": {},
   "outputs": [],
   "source": [
    "# Generate Samples from the Sampler, Using Provided Images\n",
    "\n",
    "samples = None\n",
    "\n",
    "for x in tqdm.tqdm(sampler.sample_batch_progressive(batch_size=1, model_kwargs=dict(images=images))):\n",
    "    samples = x\n",
    "\n",
    "del images"
   ]
  },
  {
   "cell_type": "code",
   "execution_count": null,
   "metadata": {},
   "outputs": [],
   "source": [
    "# Save All Generated Samples To Cloud Files, \n",
    "\n",
    "figs = []\n",
    "\n",
    "for i, cloud in enumerate(sampler.output_to_point_clouds(samples)):\n",
    "    figs[i] = plot_point_cloud(cloud, grid_size=3, fixed_bounds=((-0.75, -0.75, -0.75),(0.75, 0.75, 0.75)))\n",
    "\n",
    "    with open(f'{srcPath}/cloud_{i}.npz', 'wb') as f:\n",
    "        cloud.save(f)\n",
    "\n",
    "del sampler\n",
    "del samples"
   ]
  },
  {
   "cell_type": "code",
   "execution_count": null,
   "metadata": {},
   "outputs": [],
   "source": [
    "# Clear All Variables from Memory\n",
    "del sampler\n",
    "del samples\n",
    "\n",
    "del figs"
   ]
  },
  {
   "attachments": {},
   "cell_type": "markdown",
   "metadata": {},
   "source": [
    "<h3>Point_E Pointcloud To Mesh</h3>"
   ]
  },
  {
   "cell_type": "code",
   "execution_count": null,
   "metadata": {},
   "outputs": [],
   "source": [
    "# Create SDF Generator Model\n",
    "\n",
    "sdfModel = CreateModel('sdf', UseBestTorchDevice())"
   ]
  },
  {
   "cell_type": "code",
   "execution_count": null,
   "metadata": {},
   "outputs": [],
   "source": [
    "# Genreating Meshes From Clouds, Previously Saved To NPZ Files\n",
    "\n",
    "curCloud: PointCloud = None\n",
    "curMesh = None\n",
    "meshes = []\n",
    "\n",
    "for cloudPath in getPathNPBinaries(srcPath):\n",
    "    curCloud = PointCloud.load(cloudPath)\n",
    "\n",
    "    curMesh = marching_cubes_mesh(\n",
    "        pc = curCloud,\n",
    "        model = sdfModel,\n",
    "        batch_size = 4096,\n",
    "        grid_size = 128,\n",
    "        progress=True\n",
    "    )\n",
    "\n",
    "    meshes.append(curMesh)"
   ]
  }
 ],
 "metadata": {
  "kernelspec": {
   "display_name": "Python 3",
   "language": "python",
   "name": "python3"
  },
  "language_info": {
   "codemirror_mode": {
    "name": "ipython",
    "version": 3
   },
   "file_extension": ".py",
   "mimetype": "text/x-python",
   "name": "python",
   "nbconvert_exporter": "python",
   "pygments_lexer": "ipython3",
   "version": "3.10.10"
  },
  "orig_nbformat": 4,
  "vscode": {
   "interpreter": {
    "hash": "fa3b4bcd30999d4dd3b7790820c45ccaef78365348c8c252963eb6d102622af6"
   }
  }
 },
 "nbformat": 4,
 "nbformat_minor": 2
}
