{
 "cells": [
  {
   "cell_type": "code",
   "execution_count": null,
   "metadata": {},
   "outputs": [],
   "source": [
    "import numpy as np\n",
    "import open3d as o3d\n",
    "from pykinect2 import PyKinectV2, PyKinectRuntime"
   ]
  },
  {
   "cell_type": "code",
   "execution_count": null,
   "metadata": {},
   "outputs": [],
   "source": [
    "# Main Settings\n",
    "\n",
    "# Angle between each scan in degrees\n",
    "ANGLE_INCR: int = 30\n",
    "\n",
    "# The target object type.\n",
    "TARGET: str = 'sphere'"
   ]
  },
  {
   "cell_type": "code",
   "execution_count": null,
   "metadata": {},
   "outputs": [],
   "source": [
    "# Initialize Kinect\n",
    "\n",
    "kinect = PyKinectRuntime.PyKinectRuntime(PyKinectV2.FrameSourceTypes_Color | PyKinectV2.FrameSourceTypes_Depth)"
   ]
  },
  {
   "cell_type": "code",
   "execution_count": null,
   "metadata": {},
   "outputs": [],
   "source": [
    "# Initialize Pointclouds Container\n",
    "\n",
    "pcds: list(o3d.geometry.Pointcloud) = []"
   ]
  },
  {
   "cell_type": "code",
   "execution_count": null,
   "metadata": {},
   "outputs": [],
   "source": [
    "viz = o3d.visualization.Visualizer()\n",
    "viz.create_window(window_name='KinectScan', width=720, height=480)"
   ]
  },
  {
   "cell_type": "code",
   "execution_count": null,
   "metadata": {},
   "outputs": [],
   "source": [
    "for angle in range(0, 360, ANGLE_INCR):\n",
    "\n",
    "    # Get Frame\n",
    "    if kinect.has_new_color_frame() and kinect.has_new_depth_frame():\n",
    "\n",
    "        color_frame = kinect.get_last_color_frame()\n",
    "        depth_frame = kinect.get_last_depth_frame()\n",
    "\n",
    "        # Create Pointcloud\n",
    "        pcd = o3d.geometry.PointCloud.create_from_rgbd_image(\n",
    "            o3d.geometry.RGBDImage.create_from_color_and_depth(\n",
    "                o3d.geometry.Image(color_frame),\n",
    "                o3d.geometry.Image(depth_frame),\n",
    "                depth_scale=1000,\n",
    "                depth_trunc=1000,\n",
    "                convert_rgb_to_intensity=False\n",
    "            ),\n",
    "            o3d.camera.PinholeCameraIntrinsic(\n",
    "                o3d.camera.PinholeCameraIntrinsicParameters.Kinect2DepthCameraDefault\n",
    "            )\n",
    "        )\n",
    "\n",
    "        kinect.release_last_color_frame()\n",
    "        kinect.release_last_depth_frame()\n",
    "\n",
    "        # Rotate Pointcloud\n",
    "\n",
    "        pcd.rotate(o3d.geometry.get_rotation_matrix_from_axis_angle([0, 1, 0], angle), center=[0, 0, 0])\n",
    "\n",
    "        # Add Pointcloud to Container\n",
    "\n",
    "        pcds.append(pcd)\n",
    "        viz.add_geometry(pcd)\n",
    "\n",
    "        # Update Visualization\n",
    "        viz.update_renderer()\n",
    "        viz.poll_events()\n",
    "\n",
    "viz.destroy_window()"
   ]
  },
  {
   "cell_type": "code",
   "execution_count": null,
   "metadata": {},
   "outputs": [],
   "source": [
    "# Register Collected Pointclouds\n",
    "\n",
    "assert len(pcds) > 0\n",
    "\n",
    "final_pcd: o3d.geometry.Pointcloud = pcds[0]\n",
    "for pcd in pcds[1:]:\n",
    "    icpRegResults = o3d.pipelines.registration.registration_icp(\n",
    "        pcd, \n",
    "        final_pcd, \n",
    "        0.1, \n",
    "        np.identity(4), \n",
    "        o3d.pipelines.registration.TransformationEstimationPointToPoint(), \n",
    "        o3d.pipelines.registration.ICPConvergenceCriteria(max_iteration=1000)\n",
    "    )\n",
    "\n",
    "    pcd.transform(icpRegResults.transformation)\n",
    "    final_pcd += pcd"
   ]
  },
  {
   "cell_type": "code",
   "execution_count": null,
   "metadata": {},
   "outputs": [],
   "source": [
    "# Visualize Result\n",
    "\n",
    "o3d.visualization.draw_geometries([final_pcd])"
   ]
  },
  {
   "cell_type": "code",
   "execution_count": null,
   "metadata": {},
   "outputs": [],
   "source": [
    "# Save Result\n",
    "\n",
    "o3d.io.write_point_cloud(f'../data/Kinect/{TARGET}/result.ply', final_pcd)"
   ]
  }
 ],
 "metadata": {
  "kernelspec": {
   "display_name": "Python 3",
   "language": "python",
   "name": "python3"
  },
  "language_info": {
   "name": "python",
   "version": "3.10.10"
  },
  "orig_nbformat": 4,
  "vscode": {
   "interpreter": {
    "hash": "fa3b4bcd30999d4dd3b7790820c45ccaef78365348c8c252963eb6d102622af6"
   }
  }
 },
 "nbformat": 4,
 "nbformat_minor": 2
}
