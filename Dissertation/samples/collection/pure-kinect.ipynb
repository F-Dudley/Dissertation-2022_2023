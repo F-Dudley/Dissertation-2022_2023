{
 "cells": [
  {
   "cell_type": "code",
   "execution_count": 16,
   "metadata": {},
   "outputs": [],
   "source": [
    "import numpy as np\n",
    "import open3d as o3d\n",
    "from pykinect2 import PyKinectV2\n",
    "from pykinect2 import PyKinectRuntime"
   ]
  },
  {
   "cell_type": "code",
   "execution_count": 18,
   "metadata": {},
   "outputs": [],
   "source": [
    "# Main Settings\n",
    "\n",
    "# Angle between each scan in degrees\n",
    "ANGLE_INCR: int = 45\n",
    "\n",
    "MIN_DEPTH: int = 750\n",
    "MAX_DEPTH: int = 1250\n",
    "\n",
    "MIN_X: int = 120\n",
    "MAX_X: int = 500\n",
    "\n",
    "MIN_Y: int = 0\n",
    "MAX_Y: int = 400\n",
    "\n",
    "# The target object type.\n",
    "TARGET: str = 'sphere'"
   ]
  },
  {
   "cell_type": "code",
   "execution_count": 19,
   "metadata": {},
   "outputs": [],
   "source": [
    "# Initialize Kinect\n",
    "\n",
    "kinect = PyKinectRuntime.PyKinectRuntime(PyKinectV2.FrameSourceTypes_Depth)"
   ]
  },
  {
   "cell_type": "code",
   "execution_count": 20,
   "metadata": {},
   "outputs": [],
   "source": [
    "# Initialize Pointclouds Container\n",
    "\n",
    "pcds = []"
   ]
  },
  {
   "cell_type": "code",
   "execution_count": null,
   "metadata": {},
   "outputs": [],
   "source": [
    "#viz = o3d.visualization.Visualizer()\n",
    "#viz.create_window(window_name='KinectScan', width=720, height=480, visible=True)"
   ]
  },
  {
   "cell_type": "code",
   "execution_count": 21,
   "metadata": {},
   "outputs": [
    {
     "name": "stdout",
     "output_type": "stream",
     "text": [
      "Rotating Pointcloud by 0 degrees...\n",
      "Writing to File\n",
      "Rotating Pointcloud by 45 degrees...\n",
      "Writing to File\n",
      "Rotating Pointcloud by 90 degrees...\n",
      "Writing to File\n",
      "Rotating Pointcloud by 135 degrees...\n",
      "Writing to File\n",
      "Rotating Pointcloud by 180 degrees...\n",
      "Writing to File\n",
      "Rotating Pointcloud by 225 degrees...\n",
      "Writing to File\n",
      "Rotating Pointcloud by 270 degrees...\n",
      "Writing to File\n",
      "Rotating Pointcloud by 315 degrees...\n",
      "Writing to File\n"
     ]
    }
   ],
   "source": [
    "for angle in range(0, 360, ANGLE_INCR):\n",
    "        \n",
    "\n",
    "    depth_frame = np.reshape(kinect.get_last_depth_frame(), (424, 512)).astype(np.uint16)\n",
    "\n",
    "    # Filter Image\n",
    "    depth_frame = np.where((depth_frame >= MIN_DEPTH) & (depth_frame <= MAX_DEPTH), depth_frame, 0)\n",
    "    depth_frame[:MIN_Y, :] = 0\n",
    "    depth_frame[MAX_Y:, :] = 0\n",
    "    depth_frame[:, :MIN_X] = 0\n",
    "    depth_frame[:, MAX_X:] = 0\n",
    "\n",
    "    depth_image = o3d.geometry.Image(depth_frame)\n",
    "\n",
    "    # Create Pointcloud\n",
    "    pcd = o3d.geometry.PointCloud.create_from_depth_image(\n",
    "        depth_image,\n",
    "        o3d.camera.PinholeCameraIntrinsic(\n",
    "            o3d.camera.PinholeCameraIntrinsicParameters.Kinect2DepthCameraDefault\n",
    "        )\n",
    "    )\n",
    "\n",
    "        # Rotate Pointcloud\n",
    "\n",
    "    print(f'Rotating Pointcloud by {angle} degrees...')\n",
    "    rotation = o3d.geometry.get_rotation_matrix_from_xyz((0, angle, 0))\n",
    "    pcd.rotate(rotation)\n",
    "\n",
    "    # Add Pointcloud to Container\n",
    "\n",
    "    print(\"Writing to File\")\n",
    "    o3d.io.write_point_cloud(f'../data/Kinect/{TARGET}/raw/{angle}.ply', pcd)\n",
    "\n",
    "    pcds.append(pcd)\n",
    "    #viz.add_geometry(pcd)\n",
    "\n",
    "    # Update Visualization\n",
    "    #viz.update_renderer()\n",
    "    #viz.poll_events()\n",
    "\n",
    "    # wait input\n",
    "    input(\"Press Enter to continue...\")\n",
    "\n",
    "\n",
    "kinect.close()\n",
    "#viz.destroy_window()"
   ]
  },
  {
   "cell_type": "code",
   "execution_count": null,
   "metadata": {},
   "outputs": [],
   "source": [
    "del kinect"
   ]
  },
  {
   "cell_type": "code",
   "execution_count": 22,
   "metadata": {},
   "outputs": [],
   "source": [
    "# Register Collected Pointclouds\n",
    "\n",
    "assert len(pcds) > 0, \"-- No Pointclouds Collected --\"\n",
    "\n",
    "final_pcd = pcds[0]\n",
    "for pcd in pcds[1:]:\n",
    "    icpRegResults = o3d.pipelines.registration.registration_icp(\n",
    "        pcd, \n",
    "        final_pcd, \n",
    "        0.1, \n",
    "        np.identity(4), \n",
    "        o3d.pipelines.registration.TransformationEstimationPointToPoint(), \n",
    "        o3d.pipelines.registration.ICPConvergenceCriteria(max_iteration=1000)\n",
    "    )\n",
    "\n",
    "    pcd.transform(icpRegResults.transformation)\n",
    "    final_pcd += pcd"
   ]
  },
  {
   "cell_type": "code",
   "execution_count": 23,
   "metadata": {},
   "outputs": [],
   "source": [
    "# Visualize Result\n",
    "\n",
    "o3d.visualization.draw_geometries([final_pcd])"
   ]
  },
  {
   "cell_type": "code",
   "execution_count": null,
   "metadata": {},
   "outputs": [],
   "source": [
    "# Save Result\n",
    "\n",
    "o3d.io.write_point_cloud(f'../data/Kinect/{TARGET}/result.ply', final_pcd)"
   ]
  }
 ],
 "metadata": {
  "kernelspec": {
   "display_name": "Python 3",
   "language": "python",
   "name": "python3"
  },
  "language_info": {
   "codemirror_mode": {
    "name": "ipython",
    "version": 3
   },
   "file_extension": ".py",
   "mimetype": "text/x-python",
   "name": "python",
   "nbconvert_exporter": "python",
   "pygments_lexer": "ipython3",
   "version": "3.10.10"
  },
  "orig_nbformat": 4,
  "vscode": {
   "interpreter": {
    "hash": "fa3b4bcd30999d4dd3b7790820c45ccaef78365348c8c252963eb6d102622af6"
   }
  }
 },
 "nbformat": 4,
 "nbformat_minor": 2
}
