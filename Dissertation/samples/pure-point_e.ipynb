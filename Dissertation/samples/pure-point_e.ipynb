{
 "cells": [
  {
   "attachments": {},
   "cell_type": "markdown",
   "metadata": {},
   "source": [
    "<h1>Point_E Model Scanning Sample</h1>"
   ]
  },
  {
   "attachments": {},
   "cell_type": "markdown",
   "metadata": {},
   "source": [
    "<h3>Point_E Image To PointCloud<h3/>"
   ]
  },
  {
   "cell_type": "code",
   "execution_count": null,
   "metadata": {},
   "outputs": [],
   "source": [
    "import tqdm\n",
    "from AIScan import CloudSampler\n",
    "from AIScan.Models import CreateModel\n",
    "from Utils.Data import getPathImages, getPathNPBinaries\n",
    "from Utils.Torch import UseBestTorchDevice\n",
    "\n",
    "from point_e.util.point_cloud import PointCloud\n",
    "from point_e.util.mesh import TriMesh\n",
    "from point_e.util.pc_to_mesh import marching_cubes_mesh\n",
    "from point_e.util.plotting import plot_point_cloud\n",
    "\n",
    "srcPath = './data/duck'"
   ]
  },
  {
   "cell_type": "code",
   "execution_count": null,
   "metadata": {},
   "outputs": [],
   "source": [
    "# Loading Sampler For Chosen Cloud\n",
    "\n",
    "sampler = CloudSampler.CreateCloudSampler('base1B')"
   ]
  },
  {
   "cell_type": "code",
   "execution_count": null,
   "metadata": {},
   "outputs": [],
   "source": [
    "# Loading Images From Provided Source Path (Provided In First Cell)\n",
    "\n",
    "images = getPathImages(srcPath)\n",
    "if (len(images) == 0):\n",
    "    print(\"--__ No Images Found __--\")\n",
    "    exit()"
   ]
  },
  {
   "cell_type": "code",
   "execution_count": null,
   "metadata": {},
   "outputs": [],
   "source": [
    "# Generate Samples from the Sampler, Using Provided Images\n",
    "\n",
    "samples = None\n",
    "\n",
    "for x in tqdm.tqdm(sampler.sample_batch_progressive(batch_size=1, model_kwargs=dict(images=images))):\n",
    "    samples = x\n",
    "\n",
    "del images"
   ]
  },
  {
   "cell_type": "code",
   "execution_count": null,
   "metadata": {},
   "outputs": [],
   "source": [
    "# Save All Generated Samples To Cloud Files, \n",
    "\n",
    "figs = []\n",
    "\n",
    "for i, cloud in enumerate(sampler.output_to_point_clouds(samples)):\n",
    "    figs[i] = plot_point_cloud(cloud, grid_size=3, fixed_bounds=((-0.75, -0.75, -0.75),(0.75, 0.75, 0.75)))\n",
    "\n",
    "    with open(f'{imageSrcPath}/cloud_{i}.npz', 'wb') as f:\n",
    "        cloud.save(f)\n",
    "\n",
    "del sampler\n",
    "del samples"
   ]
  },
  {
   "cell_type": "code",
   "execution_count": null,
   "metadata": {},
   "outputs": [],
   "source": [
    "# Clear All Variables from Memory\n",
    "del sampler\n",
    "del samples\n",
    "\n",
    "del figs"
   ]
  },
  {
   "attachments": {},
   "cell_type": "markdown",
   "metadata": {},
   "source": [
    "<h3>Point_E Pointcloud To Mesh</h3>"
   ]
  },
  {
   "cell_type": "code",
   "execution_count": null,
   "metadata": {},
   "outputs": [],
   "source": [
    "# Create SDF Generator Model\n",
    "\n",
    "sdfModel = CreateModel('sdf', UseBestTorchDevice())"
   ]
  },
  {
   "cell_type": "code",
   "execution_count": null,
   "metadata": {},
   "outputs": [],
   "source": [
    "# Genreating Meshes From Clouds, Previously Saved To NPZ Files\n",
    "\n",
    "curCloud: PointCloud = None\n",
    "curMesh = None\n",
    "meshes = []\n",
    "\n",
    "for cloudPath in getPathNPBinaries(srcPath):\n",
    "    curCloud = PointCloud.load(cloudPath)\n",
    "\n",
    "    curMesh = marching_cubes_mesh(\n",
    "        pc = curCloud,\n",
    "        model = sdfModel,\n",
    "        batch_size = 4096,\n",
    "        grid_size = 128,\n",
    "        progress=True\n",
    "    )\n",
    "\n",
    "    meshes.append(curMesh)"
   ]
  }
 ],
 "metadata": {
  "kernelspec": {
   "display_name": "Python 3",
   "language": "python",
   "name": "python3"
  },
  "language_info": {
   "codemirror_mode": {
    "name": "ipython",
    "version": 3
   },
   "file_extension": ".py",
   "mimetype": "text/x-python",
   "name": "python",
   "nbconvert_exporter": "python",
   "pygments_lexer": "ipython3",
   "version": "3.10.10"
  },
  "orig_nbformat": 4,
  "vscode": {
   "interpreter": {
    "hash": "fa3b4bcd30999d4dd3b7790820c45ccaef78365348c8c252963eb6d102622af6"
   }
  }
 },
 "nbformat": 4,
 "nbformat_minor": 2
}
