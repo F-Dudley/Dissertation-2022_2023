{
 "cells": [
  {
   "cell_type": "code",
   "execution_count": 2,
   "metadata": {},
   "outputs": [
    {
     "name": "stdout",
     "output_type": "stream",
     "text": [
      "Jupyter environment detected. Enabling Open3D WebVisualizer.\n",
      "[Open3D INFO] WebRTC GUI backend enabled.\n",
      "[Open3D INFO] WebRTCWindowSystem: HTTP handshake server disabled.\n"
     ]
    }
   ],
   "source": [
    "import open3d as o3d\n",
    "import numpy as np\n",
    "\n",
    "from Eval.Mesh import CreatePointcloudFromMeshVertices, CreatePointcloudFromDir\n",
    "from Eval.Clouds.Sphere import CreateBaseSpherePointCloud\n",
    "from Eval.Error import CalculateRMSE\n",
    "from Eval.Plotting import plot_technique_rmse\n",
    "from Utils.Data import saveJSON, loadJSON\n",
    "from Utils.Viz import VizualiseBaseTargetPointclouds"
   ]
  },
  {
   "cell_type": "code",
   "execution_count": 3,
   "metadata": {},
   "outputs": [
    {
     "data": {
      "text/plain": [
       "PointCloud with 5000 points."
      ]
     },
     "execution_count": 3,
     "metadata": {},
     "output_type": "execute_result"
    }
   ],
   "source": [
    "# Create Base Clouds for Comparison, Created Programatically for High Accuracy.\n",
    "\n",
    "# Diameter of Base IRL Sphere: 200mm\n",
    "baseSphere = CreateBaseSpherePointCloud(diameter = 200 / 1000, resolution=5000)\n",
    "baseSphere.paint_uniform_color([0.5, 0.5, 0.5])\n"
   ]
  },
  {
   "cell_type": "code",
   "execution_count": 4,
   "metadata": {},
   "outputs": [
    {
     "data": {
      "text/plain": [
       "PointCloud with 367800 points."
      ]
     },
     "execution_count": 4,
     "metadata": {},
     "output_type": "execute_result"
    }
   ],
   "source": [
    "# Get the Obtained Data Clouds for Comparison, on the Base Programatically Created Clouds.\n",
    "\n",
    "eval = 'PolyCam'\n",
    "\n",
    "evalDataDir = f'../data/{eval}/sphere.ply'\n",
    "\n",
    "#collectedSphere = CreateBaseSpherePointCloud(diameter = 1.34, resolution=3000) # Temp For RMSE Collection Testing\n",
    "collectedSphere = CreatePointcloudFromDir(evalDataDir)\n",
    "collectedSphere.paint_uniform_color([1, 0, 0])"
   ]
  },
  {
   "cell_type": "code",
   "execution_count": 5,
   "metadata": {},
   "outputs": [
    {
     "name": "stdout",
     "output_type": "stream",
     "text": [
      "RegistrationResult with fitness=1.000000e+00, inlier_rmse=9.712135e-03, and correspondence_set size of 5000\n",
      "Access transformation to get result.\n"
     ]
    },
    {
     "data": {
      "text/plain": [
       "PointCloud with 5000 points."
      ]
     },
     "execution_count": 5,
     "metadata": {},
     "output_type": "execute_result"
    }
   ],
   "source": [
    "# Perform ICP Registration to Obtain a Transformation Matrix\n",
    "# This allows for more accurate comparison of the clouds, by making them similar positioning.\n",
    "\n",
    "\n",
    "icpRegResults = o3d.pipelines.registration.registration_icp(baseSphere, \n",
    "                                                            collectedSphere, \n",
    "                                                            0.1, \n",
    "                                                            np.identity(4), \n",
    "                                                            o3d.pipelines.registration.TransformationEstimationPointToPoint(), \n",
    "                                                            o3d.pipelines.registration.ICPConvergenceCriteria(max_iteration=1000))\n",
    "\n",
    "print(icpRegResults)\n",
    "\n",
    "# Apply the Transformation Matrix to the Obtained Data Clouds\n",
    "baseSphere.transform(icpRegResults.transformation)"
   ]
  },
  {
   "cell_type": "code",
   "execution_count": 12,
   "metadata": {},
   "outputs": [],
   "source": [
    "# Quick Visualization of both the Obtained Cloud and the Base Cloud.\n",
    "\n",
    "VizualiseBaseTargetPointclouds(baseSphere, collectedSphere)"
   ]
  },
  {
   "cell_type": "code",
   "execution_count": 7,
   "metadata": {},
   "outputs": [
    {
     "name": "stdout",
     "output_type": "stream",
     "text": [
      "RMSE (mm): 9.712134534343258\n"
     ]
    }
   ],
   "source": [
    "# Calculate the RMSE between the two clouds.\n",
    "\n",
    "rmse = CalculateRMSE(baseSphere, collectedSphere)\n",
    "\n",
    "# Added * 1000 to convert to mm\n",
    "print(f'RMSE (mm): {rmse}')"
   ]
  },
  {
   "cell_type": "code",
   "execution_count": 8,
   "metadata": {},
   "outputs": [
    {
     "name": "stdout",
     "output_type": "stream",
     "text": [
      "{'rmse': 9.859317797704762, 'inlier_rmse': 9.859317797704763}\n",
      "RMSE Data: \n",
      "{'Kinect': {'sphere': {'rmse': 0.17068160383701134, 'inlier_rmse': 0.0}, 'box': {'rmse': 0.17068160383701134, 'inlier_rmse': 0.0}}, 'Point_e': {'sphere': {'rmse': 0.17068160383701134, 'inlier_rmse': 0.0}, 'box': {'rmse': 0.17068160383701134, 'inlier_rmse': 0.0}}, 'PolyCam': {'sphere': {'rmse': 9.712134534343258, 'inlier_rmse': 9.712134534343265}, 'box': {'rmse': 0.17068160383701134, 'inlier_rmse': 0.0}}}\n"
     ]
    }
   ],
   "source": [
    "# Add the RMSE to the data file.\n",
    "\n",
    "jsonFileDir = \"../data/techniques-rmse-diagram.json\"\n",
    "\n",
    "data = loadJSON(jsonFileDir)\n",
    "\n",
    "# Update the sphere RMSE value of data's technique.\n",
    "dataBuff = data[eval][\"sphere\"]\n",
    "print(dataBuff)\n",
    "\n",
    "data[eval][\"sphere\"].update({\n",
    "    \"rmse\": rmse,\n",
    "    \"inlier_rmse\": icpRegResults.inlier_rmse * 1000 # Convert to mm\n",
    "})\n",
    "\n",
    "saveJSON(jsonFileDir, data)\n",
    "print(f'RMSE Data: \\n{data}')"
   ]
  },
  {
   "cell_type": "code",
   "execution_count": 9,
   "metadata": {},
   "outputs": [
    {
     "name": "stdout",
     "output_type": "stream",
     "text": [
      "RMSE Data: \n",
      "{'sphere': [0.17068160383701134, 0.17068160383701134, 9.712134534343258], 'box': [0.17068160383701134, 0.17068160383701134, 0.17068160383701134]}\n"
     ]
    },
    {
     "name": "stderr",
     "output_type": "stream",
     "text": [
      "C:\\Users\\finnd\\AppData\\Local\\Temp\\ipykernel_11288\\3083896601.py:5: UserWarning: Matplotlib is currently using module://matplotlib_inline.backend_inline, which is a non-GUI backend, so cannot show the figure.\n",
      "  fig.show()\n"
     ]
    },
    {
     "data": {
      "image/png": "[encoded data removed]",
      "text/plain": [
       "<Figure size 640x480 with 1 Axes>"
      ]
     },
     "metadata": {},
     "output_type": "display_data"
    }
   ],
   "source": [
    "# Create Figure Based on Current Dataset\n",
    "\n",
    "fig = plot_technique_rmse(data, upper_lim=12) # 1.2cm\n",
    "\n",
    "fig.show()"
   ]
  },
  {
   "cell_type": "code",
   "execution_count": 10,
   "metadata": {},
   "outputs": [],
   "source": [
    "# Save Figure\n",
    "\n",
    "fig.savefig(\"../data/techniques-rmse-diagram.png\", format=\"png\", dpi=300)"
   ]
  }
 ],
 "metadata": {
  "kernelspec": {
   "display_name": "Python 3",
   "language": "python",
   "name": "python3"
  },
  "language_info": {
   "codemirror_mode": {
    "name": "ipython",
    "version": 3
   },
   "file_extension": ".py",
   "mimetype": "text/x-python",
   "name": "python",
   "nbconvert_exporter": "python",
   "pygments_lexer": "ipython3",
   "version": "3.10.10"
  },
  "orig_nbformat": 4
 },
 "nbformat": 4,
 "nbformat_minor": 2
}
