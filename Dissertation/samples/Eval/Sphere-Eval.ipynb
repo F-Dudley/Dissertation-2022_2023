{
 "cells": [
  {
   "cell_type": "code",
   "execution_count": 1,
   "metadata": {},
   "outputs": [
    {
     "name": "stdout",
     "output_type": "stream",
     "text": [
      "Jupyter environment detected. Enabling Open3D WebVisualizer.\n",
      "[Open3D INFO] WebRTC GUI backend enabled.\n",
      "[Open3D INFO] WebRTCWindowSystem: HTTP handshake server disabled.\n"
     ]
    },
    {
     "ename": "ImportError",
     "evalue": "cannot import name 'CalculateRMSE2' from 'Eval.Error' (d:\\programming\\projects\\dissertation-2022_2023\\dissertation\\Eval\\Error.py)",
     "output_type": "error",
     "traceback": [
      "\u001b[1;31m---------------------------------------------------------------------------\u001b[0m",
      "\u001b[1;31mImportError\u001b[0m                               Traceback (most recent call last)",
      "Cell \u001b[1;32mIn[1], line 6\u001b[0m\n\u001b[0;32m      4\u001b[0m \u001b[39mfrom\u001b[39;00m \u001b[39mEval\u001b[39;00m\u001b[39m.\u001b[39;00m\u001b[39mMesh\u001b[39;00m \u001b[39mimport\u001b[39;00m CreatePointcloudFromMeshVertices\n\u001b[0;32m      5\u001b[0m \u001b[39mfrom\u001b[39;00m \u001b[39mEval\u001b[39;00m\u001b[39m.\u001b[39;00m\u001b[39mClouds\u001b[39;00m\u001b[39m.\u001b[39;00m\u001b[39mSphere\u001b[39;00m \u001b[39mimport\u001b[39;00m CreateBaseSpherePointCloud\n\u001b[1;32m----> 6\u001b[0m \u001b[39mfrom\u001b[39;00m \u001b[39mEval\u001b[39;00m\u001b[39m.\u001b[39;00m\u001b[39mError\u001b[39;00m \u001b[39mimport\u001b[39;00m CalculateRMSE2\n",
      "\u001b[1;31mImportError\u001b[0m: cannot import name 'CalculateRMSE2' from 'Eval.Error' (d:\\programming\\projects\\dissertation-2022_2023\\dissertation\\Eval\\Error.py)"
     ]
    }
   ],
   "source": [
    "import open3d as o3d\n",
    "import numpy as np\n",
    "\n",
    "from Eval.Mesh import CreatePointcloudFromMeshVertices\n",
    "from Eval.Clouds.Sphere import CreateBaseSpherePointCloud\n",
    "from Eval.Error import CalculateRMSE"
   ]
  },
  {
   "cell_type": "code",
   "execution_count": null,
   "metadata": {},
   "outputs": [],
   "source": [
    "# Create Base Clouds for Comparison, Created Programatically for High Accuracy.\n",
    "\n",
    "baseSphere = CreateBaseSpherePointCloud(diameter = 1.0, resolution=5000)\n",
    "baseSphere.paint_uniform_color([0.5, 0.5, 0.5])\n"
   ]
  },
  {
   "cell_type": "code",
   "execution_count": null,
   "metadata": {},
   "outputs": [],
   "source": [
    "# Get the Obtained Data Clouds for Comparison, on the Base Programatically Created Clouds.\n",
    "\n",
    "evalDataDir = \"../data/point_e/P-E_Sphere.ply\"\n",
    "\n",
    "targetSphere = CreatePointcloudFromMeshVertices(evalDataDir)\n",
    "targetSphere.paint_uniform_color([1, 0, 0])"
   ]
  },
  {
   "cell_type": "code",
   "execution_count": null,
   "metadata": {},
   "outputs": [],
   "source": [
    "# Quick Visualization of both the Obtained Cloud and the Base Cloud.\n",
    "\n",
    "o3d.visualization.draw_geometries_with_editing([baseSphere, targetSphere], width=800, height=600)"
   ]
  },
  {
   "cell_type": "code",
   "execution_count": null,
   "metadata": {},
   "outputs": [],
   "source": [
    "# Calculate the RMSE between the two clouds.\n",
    "\n",
    "testSphere = CreateBaseSpherePointCloud(diameter = 1.25, resolution=3000)\n",
    "\n",
    "rmse = CalculateRMSE2(baseSphere, testSphere)\n",
    "\n",
    "print(f'RMSE: {rmse}')"
   ]
  },
  {
   "cell_type": "code",
   "execution_count": null,
   "metadata": {},
   "outputs": [],
   "source": [
    "# Calculate the RMSE between the two clouds, using Open3D Registration.\n",
    "\n",
    "# This is the same as the above, but using Open3D's Registration Functionality.\n",
    "# This is a more accurate way of calculating the RMSE, as it takes into account\n",
    "# the rotation and translation of the two clouds.\n",
    "\n",
    "icpRegResults = o3d.pipelines.registration.registration_icp(baseSphere, targetSphere, 0.1, np.identity(4), o3d.pipelines.registration.TransformationEstimationPointToPoint(), o3d.pipelines.registration.ICPConvergenceCriteria(max_iteration=1000))\n",
    "\n",
    "print(icpRegResults) # Provides Inter_RMSE"
   ]
  }
 ],
 "metadata": {
  "kernelspec": {
   "display_name": "Python 3",
   "language": "python",
   "name": "python3"
  },
  "language_info": {
   "codemirror_mode": {
    "name": "ipython",
    "version": 3
   },
   "file_extension": ".py",
   "mimetype": "text/x-python",
   "name": "python",
   "nbconvert_exporter": "python",
   "pygments_lexer": "ipython3",
   "version": "3.10.10"
  },
  "orig_nbformat": 4
 },
 "nbformat": 4,
 "nbformat_minor": 2
}
