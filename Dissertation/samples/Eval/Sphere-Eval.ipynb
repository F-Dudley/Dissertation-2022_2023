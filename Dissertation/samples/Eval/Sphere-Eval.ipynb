{
 "cells": [
  {
   "cell_type": "code",
   "execution_count": null,
   "metadata": {},
   "outputs": [],
   "source": [
    "import open3d as o3d\n",
    "import numpy as np\n",
    "\n",
    "from Eval.Mesh import CreatePointcloudFromDir\n",
    "from Eval.Clouds.Sphere import CreateBaseSpherePointCloud\n",
    "from Utils.Viz import VizualiseBaseTargetPointclouds\n",
    "from Eval.Error import CalculateRMSE\n",
    "from Utils.Format import MilimeterToMeter, MeterToMilimeter"
   ]
  },
  {
   "cell_type": "code",
   "execution_count": null,
   "metadata": {},
   "outputs": [],
   "source": [
    "# Create Base Clouds for Comparison, Created Programatically for High Accuracy.\n",
    "\n",
    "# Diameter of Base IRL Sphere: 200mm\n",
    "baseSphere = CreateBaseSpherePointCloud(diameter = MilimeterToMeter(200), resolution=5000)\n",
    "baseSphere.paint_uniform_color([0.5, 0.5, 0.5])"
   ]
  },
  {
   "cell_type": "code",
   "execution_count": null,
   "metadata": {},
   "outputs": [],
   "source": [
    "# Current Technique and Data in Review\n",
    "\n",
    "eval = 'Kinect' # Either Kinect, PolyCam or Point_E\n",
    "\n",
    "evalDataDir = f'../data/{eval}/sphere/sphere.ply'"
   ]
  },
  {
   "cell_type": "code",
   "execution_count": null,
   "metadata": {},
   "outputs": [],
   "source": [
    "# Get the Obtained Data Clouds for Comparison, on the Base Programatically Created Clouds.\n",
    "\n",
    "collectedSphere = CreatePointcloudFromDir(evalDataDir)\n",
    "collectedSphere.paint_uniform_color([1, 0, 0])\n",
    "\n",
    "#collectedSphere.scale(MilimeterToMeter(200), collectedSphere.get_center())"
   ]
  },
  {
   "cell_type": "code",
   "execution_count": null,
   "metadata": {},
   "outputs": [],
   "source": [
    "# Perform ICP Registration to Obtain a Transformation Matrix\n",
    "# This allows for more accurate comparison of the clouds, by making them similar positioning.\n",
    "\n",
    "\n",
    "icpRegResults = o3d.pipelines.registration.registration_icp(baseSphere, \n",
    "                                                            collectedSphere, \n",
    "                                                            0.1, \n",
    "                                                            np.identity(4), \n",
    "                                                            o3d.pipelines.registration.TransformationEstimationPointToPoint(), \n",
    "                                                            o3d.pipelines.registration.ICPConvergenceCriteria(max_iteration=1000))\n",
    "\n",
    "print(icpRegResults)\n",
    "\n",
    "# Apply the Transformation Matrix to the Obtained Data Clouds\n",
    "baseSphere.transform(icpRegResults.transformation)"
   ]
  },
  {
   "cell_type": "code",
   "execution_count": null,
   "metadata": {},
   "outputs": [],
   "source": [
    "# Quick Visualization of both the Obtained Cloud and the Base Cloud.\n",
    "\n",
    "VizualiseBaseTargetPointclouds(baseSphere, collectedSphere)"
   ]
  },
  {
   "cell_type": "code",
   "execution_count": null,
   "metadata": {},
   "outputs": [],
   "source": [
    "# Calculate the RMSE between the two clouds.\n",
    "\n",
    "rmse = CalculateRMSE(baseSphere, collectedSphere)\n",
    "\n",
    "# Convert to mm\n",
    "rmse *= 1000\n",
    "\n",
    "# Added * 1000 to convert to mm\n",
    "print(f'RMSE (mm): {rmse}')"
   ]
  },
  {
   "attachments": {},
   "cell_type": "markdown",
   "metadata": {},
   "source": [
    "### Save and Plot RMSE Data"
   ]
  },
  {
   "cell_type": "code",
   "execution_count": null,
   "metadata": {},
   "outputs": [],
   "source": [
    "from Eval.Plotting import plot_technique_rmse\n",
    "from Utils.Data import JSON"
   ]
  },
  {
   "cell_type": "code",
   "execution_count": null,
   "metadata": {},
   "outputs": [],
   "source": [
    "jsonFileDir = \"../data/techniques-rmse-diagram.json\"\n",
    "\n",
    "rmse_data = JSON(jsonFileDir)"
   ]
  },
  {
   "cell_type": "code",
   "execution_count": null,
   "metadata": {},
   "outputs": [],
   "source": [
    "rmse_data.data[eval][\"sphere\"].update({\n",
    "    \"rmse\": rmse,\n",
    "    \"inlier_rmse\": MeterToMilimeter(icpRegResults.inlier_rmse) # Convert to mm\n",
    "})\n",
    "\n",
    "rmse_data.print()\n",
    "\n",
    "rmse_data.save()"
   ]
  },
  {
   "cell_type": "code",
   "execution_count": null,
   "metadata": {},
   "outputs": [],
   "source": [
    "# Create Figure Based on Current Dataset\n",
    "\n",
    "fig = plot_technique_rmse(rmse_data.data, upper_lim=12) # 1.2cm\n",
    "\n",
    "fig.show()"
   ]
  },
  {
   "cell_type": "code",
   "execution_count": null,
   "metadata": {},
   "outputs": [],
   "source": [
    "# Save Figure\n",
    "\n",
    "fig.savefig(\"../data/techniques-rmse-diagram.png\", format=\"png\", dpi=300)"
   ]
  }
 ],
 "metadata": {
  "kernelspec": {
   "display_name": "Python 3",
   "language": "python",
   "name": "python3"
  },
  "language_info": {
   "codemirror_mode": {
    "name": "ipython",
    "version": 3
   },
   "file_extension": ".py",
   "mimetype": "text/x-python",
   "name": "python",
   "nbconvert_exporter": "python",
   "pygments_lexer": "ipython3",
   "version": "3.10.10"
  },
  "orig_nbformat": 4
 },
 "nbformat": 4,
 "nbformat_minor": 2
}
