{
 "cells": [
  {
   "cell_type": "code",
   "execution_count": 21,
   "metadata": {},
   "outputs": [],
   "source": [
    "import open3d as o3d\n",
    "import numpy as np\n",
    "\n",
    "from Eval.Mesh import CreatePointcloudFromMeshVertices\n",
    "from Eval.Clouds.Sphere import CreateSpherePointCloud"
   ]
  },
  {
   "cell_type": "code",
   "execution_count": 28,
   "metadata": {},
   "outputs": [
    {
     "data": {
      "text/plain": [
       "PointCloud with 10000 points."
      ]
     },
     "execution_count": 28,
     "metadata": {},
     "output_type": "execute_result"
    }
   ],
   "source": [
    "# Create Base Clouds for Comparison, Created Programatically for High Accuracy.\n",
    "\n",
    "baseSphere = CreateSpherePointCloud(diameter = 1.0, resolution=10000)\n",
    "baseSphere.paint_uniform_color([0.5, 0.5, 0.5])"
   ]
  },
  {
   "cell_type": "code",
   "execution_count": 19,
   "metadata": {},
   "outputs": [
    {
     "ename": "Exception",
     "evalue": "Provided Mesh Directory does not exist.",
     "output_type": "error",
     "traceback": [
      "\u001b[1;31m---------------------------------------------------------------------------\u001b[0m",
      "\u001b[1;31mException\u001b[0m                                 Traceback (most recent call last)",
      "Cell \u001b[1;32mIn[19], line 5\u001b[0m\n\u001b[0;32m      1\u001b[0m \u001b[39m# Get the Obtained Data Clouds for Comparison, on the Base Programatically Created Clouds.\u001b[39;00m\n\u001b[0;32m      3\u001b[0m evalDataDir \u001b[39m=\u001b[39m \u001b[39m\"\u001b[39m\u001b[39m../data/point_e/P-E_Sphere.ply\u001b[39m\u001b[39m\"\u001b[39m\n\u001b[1;32m----> 5\u001b[0m targetSphere \u001b[39m=\u001b[39m CreatePointcloudFromMeshVertices(evalDataDir)\n\u001b[0;32m      6\u001b[0m targetSphere\u001b[39m.\u001b[39mpaint_uniform_color([\u001b[39m1\u001b[39m, \u001b[39m0\u001b[39m, \u001b[39m0\u001b[39m])\n",
      "File \u001b[1;32md:\\programming\\projects\\dissertation-2022_2023\\dissertation\\Eval\\Mesh.py:8\u001b[0m, in \u001b[0;36mCreatePointcloudFromMeshVertices\u001b[1;34m(meshDir)\u001b[0m\n\u001b[0;32m      5\u001b[0m \u001b[39mdef\u001b[39;00m \u001b[39mCreatePointcloudFromMeshVertices\u001b[39m(meshDir: \u001b[39mstr\u001b[39m) \u001b[39m-\u001b[39m\u001b[39m>\u001b[39m o3d\u001b[39m.\u001b[39mgeometry\u001b[39m.\u001b[39mPointCloud:\n\u001b[0;32m      7\u001b[0m     \u001b[39mif\u001b[39;00m (os\u001b[39m.\u001b[39mpath\u001b[39m.\u001b[39mexists(meshDir) \u001b[39mis\u001b[39;00m \u001b[39mFalse\u001b[39;00m):\n\u001b[1;32m----> 8\u001b[0m         \u001b[39mraise\u001b[39;00m \u001b[39mException\u001b[39;00m(\u001b[39m\"\u001b[39m\u001b[39mProvided Mesh Directory does not exist.\u001b[39m\u001b[39m\"\u001b[39m)\n\u001b[0;32m     10\u001b[0m     \u001b[39m# Load Mesh from File.\u001b[39;00m\n\u001b[0;32m     11\u001b[0m     mesh \u001b[39m=\u001b[39m o3d\u001b[39m.\u001b[39mio\u001b[39m.\u001b[39mread_triangle_mesh(meshDir)\n",
      "\u001b[1;31mException\u001b[0m: Provided Mesh Directory does not exist."
     ]
    }
   ],
   "source": [
    "# Get the Obtained Data Clouds for Comparison, on the Base Programatically Created Clouds.\n",
    "\n",
    "evalDataDir = \"../data/point_e/P-E_Sphere.ply\"\n",
    "\n",
    "targetSphere = CreatePointcloudFromMeshVertices(evalDataDir)\n",
    "targetSphere.paint_uniform_color([1, 0, 0])"
   ]
  },
  {
   "cell_type": "code",
   "execution_count": 34,
   "metadata": {},
   "outputs": [],
   "source": [
    "# Quick Visualization of both the Obtained Cloud and the Base Cloud.\n",
    "\n",
    "o3d.visualization.draw_geometries_with_editing([baseSphere, targetSphere], width=800, height=600)"
   ]
  }
 ],
 "metadata": {
  "kernelspec": {
   "display_name": "Python 3",
   "language": "python",
   "name": "python3"
  },
  "language_info": {
   "codemirror_mode": {
    "name": "ipython",
    "version": 3
   },
   "file_extension": ".py",
   "mimetype": "text/x-python",
   "name": "python",
   "nbconvert_exporter": "python",
   "pygments_lexer": "ipython3",
   "version": "3.10.10"
  },
  "orig_nbformat": 4
 },
 "nbformat": 4,
 "nbformat_minor": 2
}
