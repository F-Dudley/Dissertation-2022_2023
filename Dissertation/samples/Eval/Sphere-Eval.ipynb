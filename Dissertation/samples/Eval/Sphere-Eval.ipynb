{
 "cells": [
  {
   "cell_type": "code",
   "execution_count": 1,
   "metadata": {},
   "outputs": [
    {
     "name": "stdout",
     "output_type": "stream",
     "text": [
      "Jupyter environment detected. Enabling Open3D WebVisualizer.\n",
      "[Open3D INFO] WebRTC GUI backend enabled.\n",
      "[Open3D INFO] WebRTCWindowSystem: HTTP handshake server disabled.\n"
     ]
    }
   ],
   "source": [
    "import open3d as o3d\n",
    "import numpy as np\n",
    "\n",
    "from Eval.Mesh import CreatePointcloudFromMeshVertices\n",
    "from Eval.Clouds.Sphere import CreateBaseSpherePointCloud\n",
    "from Eval.Error import CalculateRMSE, OLD_CalculateRMSE"
   ]
  },
  {
   "cell_type": "code",
   "execution_count": 2,
   "metadata": {},
   "outputs": [
    {
     "data": {
      "text/plain": [
       "PointCloud with 5000 points."
      ]
     },
     "execution_count": 2,
     "metadata": {},
     "output_type": "execute_result"
    }
   ],
   "source": [
    "# Create Base Clouds for Comparison, Created Programatically for High Accuracy.\n",
    "\n",
    "baseSphere = CreateBaseSpherePointCloud(diameter = 1.0, resolution=5000)\n",
    "baseSphere.paint_uniform_color([0.5, 0.5, 0.5])\n"
   ]
  },
  {
   "cell_type": "code",
   "execution_count": 3,
   "metadata": {},
   "outputs": [
    {
     "data": {
      "text/plain": [
       "PointCloud with 5000 points."
      ]
     },
     "execution_count": 3,
     "metadata": {},
     "output_type": "execute_result"
    }
   ],
   "source": [
    "# Get the Obtained Data Clouds for Comparison, on the Base Programatically Created Clouds.\n",
    "\n",
    "evalDataDir = \"../data/point_e/P-E_Sphere.ply\"\n",
    "\n",
    "targetSphere = CreateBaseSpherePointCloud(diameter = 1.34, resolution=3000)\n",
    "targetSphere.paint_uniform_color([1, 0, 0])"
   ]
  },
  {
   "cell_type": "code",
   "execution_count": 4,
   "metadata": {},
   "outputs": [
    {
     "name": "stdout",
     "output_type": "stream",
     "text": [
      "[Open3D WARNING] [DrawGeometriesWithEditing] Failed adding geometry.\n",
      "[Open3D WARNING] [DrawGeometriesWithEditing] Possibly due to bad geometry or wrong geometry type.\n"
     ]
    }
   ],
   "source": [
    "# Quick Visualization of both the Obtained Cloud and the Base Cloud.\n",
    "\n",
    "o3d.visualization.draw_geometries_with_editing([baseSphere, targetSphere], width=800, height=600)"
   ]
  },
  {
   "cell_type": "code",
   "execution_count": 5,
   "metadata": {},
   "outputs": [
    {
     "name": "stdout",
     "output_type": "stream",
     "text": [
      "OLD RMSE: [ 0.29509618 12.047251  ]\n",
      "RMSE: 0.17036831970962676\n"
     ]
    }
   ],
   "source": [
    "# Calculate the RMSE between the two clouds.\n",
    "\n",
    "ormse = OLD_CalculateRMSE(baseSphere, targetSphere)\n",
    "print(f'OLD RMSE: {ormse}')\n",
    "\n",
    "rmse = CalculateRMSE(baseSphere, targetSphere)\n",
    "\n",
    "print(f'RMSE: {rmse}')"
   ]
  },
  {
   "cell_type": "code",
   "execution_count": 6,
   "metadata": {},
   "outputs": [
    {
     "name": "stdout",
     "output_type": "stream",
     "text": [
      "RegistrationResult with fitness=0.000000e+00, inlier_rmse=0.000000e+00, and correspondence_set size of 0\n",
      "Access transformation to get result.\n"
     ]
    }
   ],
   "source": [
    "# Calculate the RMSE between the two clouds, using Open3D Registration.\n",
    "\n",
    "# This is the same as the above, but using Open3D's Registration Functionality.\n",
    "# This is a more accurate way of calculating the RMSE, as it takes into account\n",
    "# the rotation and translation of the two clouds.\n",
    "\n",
    "\n",
    "icpRegResults = o3d.pipelines.registration.registration_icp(baseSphere, \n",
    "                                                            targetSphere, \n",
    "                                                            0.1, \n",
    "                                                            np.identity(4), \n",
    "                                                            o3d.pipelines.registration.TransformationEstimationPointToPoint(), \n",
    "                                                            o3d.pipelines.registration.ICPConvergenceCriteria(max_iteration=1000))\n",
    "\n",
    "print(icpRegResults) # Provides Inter_RMSE"
   ]
  }
 ],
 "metadata": {
  "kernelspec": {
   "display_name": "Python 3",
   "language": "python",
   "name": "python3"
  },
  "language_info": {
   "codemirror_mode": {
    "name": "ipython",
    "version": 3
   },
   "file_extension": ".py",
   "mimetype": "text/x-python",
   "name": "python",
   "nbconvert_exporter": "python",
   "pygments_lexer": "ipython3",
   "version": "3.10.10"
  },
  "orig_nbformat": 4
 },
 "nbformat": 4,
 "nbformat_minor": 2
}
